{
  "nbformat": 4,
  "nbformat_minor": 0,
  "metadata": {
    "colab": {
      "name": "Fake News Prediction using Machine Learning with Python.ipynb",
      "provenance": []
    },
    "kernelspec": {
      "name": "python3",
      "display_name": "Python 3"
    },
    "language_info": {
      "name": "python"
    }
  },
  "cells": [
    {
      "cell_type": "markdown",
      "metadata": {
        "id": "W2PcoilpGR7Q"
      },
      "source": [
        "About the Dataset\n",
        "  1. id : Unique id for a new article\n",
        "  2. title : The title of a news article\n",
        "  3. author : Author of a news article\n",
        "  4. text : The text of the article, could be incomplete\n",
        "  5. label : A Label that marks whether the news article is real or fake\n",
        "\n",
        "      \n",
        "\n",
        "*   **1 : Fake News**\n",
        "*   **2 : Real News**\n",
        "\n"
      ]
    },
    {
      "cell_type": "markdown",
      "metadata": {
        "id": "4lJT3wA2H9H-"
      },
      "source": [
        "Importing The Dependencies"
      ]
    },
    {
      "cell_type": "code",
      "metadata": {
        "id": "aHCWK654GWRY"
      },
      "source": [
        "import numpy as np\n",
        "import pandas as pd\n",
        "import re\n",
        "from nltk.corpus import stopwords\n",
        "from nltk.stem.porter import PorterStemmer\n",
        "from sklearn.feature_extraction.text import TfidfVectorizer\n",
        "from sklearn.model_selection import train_test_split\n",
        "from sklearn.linear_model import LogisticRegression\n",
        "from sklearn.metrics import accuracy_score"
      ],
      "execution_count": 3,
      "outputs": []
    },
    {
      "cell_type": "code",
      "metadata": {
        "colab": {
          "base_uri": "https://localhost:8080/"
        },
        "id": "C6Pee3GyIOjz",
        "outputId": "2abb9c99-c4b0-4b15-e1e2-b4354ade09aa"
      },
      "source": [
        "import nltk\n",
        "nltk.download('stopwords')"
      ],
      "execution_count": 4,
      "outputs": [
        {
          "output_type": "stream",
          "name": "stdout",
          "text": [
            "[nltk_data] Downloading package stopwords to /root/nltk_data...\n",
            "[nltk_data]   Unzipping corpora/stopwords.zip.\n"
          ]
        },
        {
          "output_type": "execute_result",
          "data": {
            "text/plain": [
              "True"
            ]
          },
          "metadata": {},
          "execution_count": 4
        }
      ]
    },
    {
      "cell_type": "code",
      "metadata": {
        "colab": {
          "base_uri": "https://localhost:8080/"
        },
        "id": "YBTHAL6gLEBY",
        "outputId": "248125f9-547a-46f2-a205-e3d7be484e29"
      },
      "source": [
        "# Printing the stopwords in English\n",
        "print(stopwords.words('english'))"
      ],
      "execution_count": 8,
      "outputs": [
        {
          "output_type": "stream",
          "name": "stdout",
          "text": [
            "['i', 'me', 'my', 'myself', 'we', 'our', 'ours', 'ourselves', 'you', \"you're\", \"you've\", \"you'll\", \"you'd\", 'your', 'yours', 'yourself', 'yourselves', 'he', 'him', 'his', 'himself', 'she', \"she's\", 'her', 'hers', 'herself', 'it', \"it's\", 'its', 'itself', 'they', 'them', 'their', 'theirs', 'themselves', 'what', 'which', 'who', 'whom', 'this', 'that', \"that'll\", 'these', 'those', 'am', 'is', 'are', 'was', 'were', 'be', 'been', 'being', 'have', 'has', 'had', 'having', 'do', 'does', 'did', 'doing', 'a', 'an', 'the', 'and', 'but', 'if', 'or', 'because', 'as', 'until', 'while', 'of', 'at', 'by', 'for', 'with', 'about', 'against', 'between', 'into', 'through', 'during', 'before', 'after', 'above', 'below', 'to', 'from', 'up', 'down', 'in', 'out', 'on', 'off', 'over', 'under', 'again', 'further', 'then', 'once', 'here', 'there', 'when', 'where', 'why', 'how', 'all', 'any', 'both', 'each', 'few', 'more', 'most', 'other', 'some', 'such', 'no', 'nor', 'not', 'only', 'own', 'same', 'so', 'than', 'too', 'very', 's', 't', 'can', 'will', 'just', 'don', \"don't\", 'should', \"should've\", 'now', 'd', 'll', 'm', 'o', 're', 've', 'y', 'ain', 'aren', \"aren't\", 'couldn', \"couldn't\", 'didn', \"didn't\", 'doesn', \"doesn't\", 'hadn', \"hadn't\", 'hasn', \"hasn't\", 'haven', \"haven't\", 'isn', \"isn't\", 'ma', 'mightn', \"mightn't\", 'mustn', \"mustn't\", 'needn', \"needn't\", 'shan', \"shan't\", 'shouldn', \"shouldn't\", 'wasn', \"wasn't\", 'weren', \"weren't\", 'won', \"won't\", 'wouldn', \"wouldn't\"]\n"
          ]
        }
      ]
    },
    {
      "cell_type": "code",
      "metadata": {
        "id": "5DB7tjo3LcLK"
      },
      "source": [
        ""
      ],
      "execution_count": null,
      "outputs": []
    },
    {
      "cell_type": "markdown",
      "metadata": {
        "id": "H32NkLiCL12O"
      },
      "source": [
        "Data Preprocessing"
      ]
    },
    {
      "cell_type": "code",
      "metadata": {
        "id": "teGl5cUrL3qP"
      },
      "source": [
        "# Loading the dataset to a pandas DataFrame\n",
        "news_dataset = pd.read_csv('/content/train.csv')"
      ],
      "execution_count": 9,
      "outputs": []
    },
    {
      "cell_type": "code",
      "metadata": {
        "colab": {
          "base_uri": "https://localhost:8080/"
        },
        "id": "bKlopUJnMIjk",
        "outputId": "dd8ca36a-a91a-483e-8353-04e8de48524a"
      },
      "source": [
        "news_dataset.shape"
      ],
      "execution_count": 10,
      "outputs": [
        {
          "output_type": "execute_result",
          "data": {
            "text/plain": [
              "(20999, 5)"
            ]
          },
          "metadata": {},
          "execution_count": 10
        }
      ]
    },
    {
      "cell_type": "code",
      "metadata": {
        "colab": {
          "base_uri": "https://localhost:8080/",
          "height": 204
        },
        "id": "EPwy-aifMSut",
        "outputId": "5c436caa-a951-4454-ee12-2a31c30ada1c"
      },
      "source": [
        "# Print the 5 rows of the dataframe\n",
        "news_dataset.head()"
      ],
      "execution_count": 12,
      "outputs": [
        {
          "output_type": "execute_result",
          "data": {
            "text/html": [
              "<div>\n",
              "<style scoped>\n",
              "    .dataframe tbody tr th:only-of-type {\n",
              "        vertical-align: middle;\n",
              "    }\n",
              "\n",
              "    .dataframe tbody tr th {\n",
              "        vertical-align: top;\n",
              "    }\n",
              "\n",
              "    .dataframe thead th {\n",
              "        text-align: right;\n",
              "    }\n",
              "</style>\n",
              "<table border=\"1\" class=\"dataframe\">\n",
              "  <thead>\n",
              "    <tr style=\"text-align: right;\">\n",
              "      <th></th>\n",
              "      <th>id</th>\n",
              "      <th>title</th>\n",
              "      <th>author</th>\n",
              "      <th>text</th>\n",
              "      <th>label</th>\n",
              "    </tr>\n",
              "  </thead>\n",
              "  <tbody>\n",
              "    <tr>\n",
              "      <th>0</th>\n",
              "      <td>0</td>\n",
              "      <td>House Dem Aide: We Didn’t Even See Comey’s Let...</td>\n",
              "      <td>Darrell Lucus</td>\n",
              "      <td>House Dem Aide: We Didn’t Even See Comey’s Let...</td>\n",
              "      <td>1</td>\n",
              "    </tr>\n",
              "    <tr>\n",
              "      <th>1</th>\n",
              "      <td>1</td>\n",
              "      <td>FLYNN: Hillary Clinton, Big Woman on Campus - ...</td>\n",
              "      <td>Daniel J. Flynn</td>\n",
              "      <td>Ever get the feeling your life circles the rou...</td>\n",
              "      <td>0</td>\n",
              "    </tr>\n",
              "    <tr>\n",
              "      <th>2</th>\n",
              "      <td>2</td>\n",
              "      <td>Why the Truth Might Get You Fired</td>\n",
              "      <td>Consortiumnews.com</td>\n",
              "      <td>Why the Truth Might Get You Fired October 29, ...</td>\n",
              "      <td>1</td>\n",
              "    </tr>\n",
              "    <tr>\n",
              "      <th>3</th>\n",
              "      <td>3</td>\n",
              "      <td>15 Civilians Killed In Single US Airstrike Hav...</td>\n",
              "      <td>Jessica Purkiss</td>\n",
              "      <td>Videos 15 Civilians Killed In Single US Airstr...</td>\n",
              "      <td>1</td>\n",
              "    </tr>\n",
              "    <tr>\n",
              "      <th>4</th>\n",
              "      <td>4</td>\n",
              "      <td>Iranian woman jailed for fictional unpublished...</td>\n",
              "      <td>Howard Portnoy</td>\n",
              "      <td>Print \\nAn Iranian woman has been sentenced to...</td>\n",
              "      <td>1</td>\n",
              "    </tr>\n",
              "  </tbody>\n",
              "</table>\n",
              "</div>"
            ],
            "text/plain": [
              "   id  ... label\n",
              "0   0  ...     1\n",
              "1   1  ...     0\n",
              "2   2  ...     1\n",
              "3   3  ...     1\n",
              "4   4  ...     1\n",
              "\n",
              "[5 rows x 5 columns]"
            ]
          },
          "metadata": {},
          "execution_count": 12
        }
      ]
    },
    {
      "cell_type": "code",
      "metadata": {
        "colab": {
          "base_uri": "https://localhost:8080/"
        },
        "id": "TZB3ykmDMb3T",
        "outputId": "106e1cd3-be76-4f75-d0e7-f8f4bf9efe25"
      },
      "source": [
        "# Counting the number of missing value in the dataset\n",
        "news_dataset.isnull().sum()"
      ],
      "execution_count": 13,
      "outputs": [
        {
          "output_type": "execute_result",
          "data": {
            "text/plain": [
              "id           0\n",
              "title      562\n",
              "author    1973\n",
              "text        39\n",
              "label        0\n",
              "dtype: int64"
            ]
          },
          "metadata": {},
          "execution_count": 13
        }
      ]
    },
    {
      "cell_type": "code",
      "metadata": {
        "id": "yy2mVFXGMyxA"
      },
      "source": [
        "# Replacing the null values with empty string\n",
        "news_dataset = news_dataset.fillna('')"
      ],
      "execution_count": 14,
      "outputs": []
    },
    {
      "cell_type": "code",
      "metadata": {
        "id": "meLVU9bINZOE"
      },
      "source": [
        "# Merging the author name and news title \n",
        "news_dataset['content'] = news_dataset['author']+' '+news_dataset['title']"
      ],
      "execution_count": 15,
      "outputs": []
    },
    {
      "cell_type": "code",
      "metadata": {
        "colab": {
          "base_uri": "https://localhost:8080/"
        },
        "id": "88LHZ4-iN75j",
        "outputId": "4e5fa553-dc17-4029-d776-44b1c9b2cab4"
      },
      "source": [
        "print(news_dataset['content'])"
      ],
      "execution_count": 16,
      "outputs": [
        {
          "output_type": "stream",
          "name": "stdout",
          "text": [
            "0        Darrell Lucus House Dem Aide: We Didn’t Even S...\n",
            "1        Daniel J. Flynn FLYNN: Hillary Clinton, Big Wo...\n",
            "2        Consortiumnews.com Why the Truth Might Get You...\n",
            "3        Jessica Purkiss 15 Civilians Killed In Single ...\n",
            "4        Howard Portnoy Iranian woman jailed for fictio...\n",
            "                               ...                        \n",
            "20994    Jerome Hudson Rapper T.I.: Trump a ’Poster Chi...\n",
            "20995    Benjamin Hoffman N.F.L. Playoffs: Schedule, Ma...\n",
            "20996    Michael J. de la Merced and Rachel Abrams Macy...\n",
            "20997    Alex Ansary NATO, Russia To Hold Parallel Exer...\n",
            "20998              David Swanson What Keeps the F-35 Alive\n",
            "Name: content, Length: 20999, dtype: object\n"
          ]
        }
      ]
    },
    {
      "cell_type": "code",
      "metadata": {
        "id": "or0_BpfCOB6A"
      },
      "source": [
        "# Separating the data and label\n",
        "X = news_dataset.drop(columns='label', axis=1)\n",
        "Y = news_dataset['label']"
      ],
      "execution_count": 19,
      "outputs": []
    },
    {
      "cell_type": "code",
      "metadata": {
        "colab": {
          "base_uri": "https://localhost:8080/"
        },
        "id": "yCeRGKlwOgzv",
        "outputId": "cb7ad7ee-20ec-4a81-ae4b-dd437b5082f5"
      },
      "source": [
        "print(X)\n",
        "print(Y)"
      ],
      "execution_count": 20,
      "outputs": [
        {
          "output_type": "stream",
          "name": "stdout",
          "text": [
            "          id  ...                                            content\n",
            "0          0  ...  Darrell Lucus House Dem Aide: We Didn’t Even S...\n",
            "1          1  ...  Daniel J. Flynn FLYNN: Hillary Clinton, Big Wo...\n",
            "2          2  ...  Consortiumnews.com Why the Truth Might Get You...\n",
            "3          3  ...  Jessica Purkiss 15 Civilians Killed In Single ...\n",
            "4          4  ...  Howard Portnoy Iranian woman jailed for fictio...\n",
            "...      ...  ...                                                ...\n",
            "20994  20795  ...  Jerome Hudson Rapper T.I.: Trump a ’Poster Chi...\n",
            "20995  20796  ...  Benjamin Hoffman N.F.L. Playoffs: Schedule, Ma...\n",
            "20996  20797  ...  Michael J. de la Merced and Rachel Abrams Macy...\n",
            "20997  20798  ...  Alex Ansary NATO, Russia To Hold Parallel Exer...\n",
            "20998  20799  ...            David Swanson What Keeps the F-35 Alive\n",
            "\n",
            "[20999 rows x 5 columns]\n",
            "0        1\n",
            "1        0\n",
            "2        1\n",
            "3        1\n",
            "4        1\n",
            "        ..\n",
            "20994    0\n",
            "20995    0\n",
            "20996    0\n",
            "20997    1\n",
            "20998    1\n",
            "Name: label, Length: 20999, dtype: int64\n"
          ]
        }
      ]
    },
    {
      "cell_type": "markdown",
      "metadata": {
        "id": "-gMb7lrWO-Gc"
      },
      "source": [
        "Stemming :    \n",
        "\n",
        "Stemming is the process of reducing a word to its Root word\n",
        "\n",
        "example :    \n",
        "actor, actress, acting --> act"
      ]
    },
    {
      "cell_type": "code",
      "metadata": {
        "id": "kTRw4AWCOsAp"
      },
      "source": [
        "port_stem = PorterStemmer()"
      ],
      "execution_count": 21,
      "outputs": []
    },
    {
      "cell_type": "code",
      "metadata": {
        "id": "8veGWaaqPmi5"
      },
      "source": [
        "def stemming(content):\n",
        "  stemmed_content = re.sub('[^a-zA-Z]',' ', content)\n",
        "  stemmed_content = stemmed_content.lower() \n",
        "  stemmed_content = stemmed_content.split()\n",
        "  stemmed_content = [port_stem.stem(word) for word in stemmed_content if not word in stopwords.words('english')]\n",
        "  stemmed_content = ' '.join(stemmed_content)\n",
        "  return stemmed_content"
      ],
      "execution_count": 24,
      "outputs": []
    },
    {
      "cell_type": "code",
      "metadata": {
        "id": "Wmn0DqcqRU_y"
      },
      "source": [
        "news_dataset['content'] = news_dataset['content'].apply(stemming)"
      ],
      "execution_count": 25,
      "outputs": []
    },
    {
      "cell_type": "code",
      "metadata": {
        "colab": {
          "base_uri": "https://localhost:8080/"
        },
        "id": "8mqxYA2EUHOe",
        "outputId": "1457d10e-9682-49be-dcdc-c60d59483c05"
      },
      "source": [
        "print(news_dataset['content'])"
      ],
      "execution_count": 26,
      "outputs": [
        {
          "output_type": "stream",
          "name": "stdout",
          "text": [
            "0        darrel lucu hous dem aid even see comey letter...\n",
            "1        daniel j flynn flynn hillari clinton big woman...\n",
            "2                   consortiumnew com truth might get fire\n",
            "3        jessica purkiss civilian kill singl us airstri...\n",
            "4        howard portnoy iranian woman jail fiction unpu...\n",
            "                               ...                        \n",
            "20994    jerom hudson rapper trump poster child white s...\n",
            "20995    benjamin hoffman n f l playoff schedul matchup...\n",
            "20996    michael j de la merc rachel abram maci said re...\n",
            "20997    alex ansari nato russia hold parallel exercis ...\n",
            "20998                            david swanson keep f aliv\n",
            "Name: content, Length: 20999, dtype: object\n"
          ]
        }
      ]
    },
    {
      "cell_type": "code",
      "metadata": {
        "id": "CrHxAPoxUtJq"
      },
      "source": [
        "# Separating the data and label\n",
        "X = news_dataset['content'].values\n",
        "Y = news_dataset['label'].values"
      ],
      "execution_count": 27,
      "outputs": []
    },
    {
      "cell_type": "code",
      "metadata": {
        "colab": {
          "base_uri": "https://localhost:8080/"
        },
        "id": "O3xRSc7MVFcv",
        "outputId": "dd0e7b74-6027-4bf4-d6ac-c3c1208a69a3"
      },
      "source": [
        "print(X)"
      ],
      "execution_count": 28,
      "outputs": [
        {
          "output_type": "stream",
          "name": "stdout",
          "text": [
            "['darrel lucu hous dem aid even see comey letter jason chaffetz tweet'\n",
            " 'daniel j flynn flynn hillari clinton big woman campu breitbart'\n",
            " 'consortiumnew com truth might get fire' ...\n",
            " 'michael j de la merc rachel abram maci said receiv takeov approach hudson bay new york time'\n",
            " 'alex ansari nato russia hold parallel exercis balkan'\n",
            " 'david swanson keep f aliv']\n"
          ]
        }
      ]
    },
    {
      "cell_type": "code",
      "metadata": {
        "colab": {
          "base_uri": "https://localhost:8080/"
        },
        "id": "L1k_BHHVVKj1",
        "outputId": "4b3c781a-0841-405e-8c73-27645f83ac57"
      },
      "source": [
        "print(Y)"
      ],
      "execution_count": 29,
      "outputs": [
        {
          "output_type": "stream",
          "name": "stdout",
          "text": [
            "[1 0 1 ... 0 1 1]\n"
          ]
        }
      ]
    },
    {
      "cell_type": "code",
      "metadata": {
        "colab": {
          "base_uri": "https://localhost:8080/"
        },
        "id": "FDuenjRCVQW7",
        "outputId": "463a5473-3154-41df-ec60-a280c19e2f49"
      },
      "source": [
        "Y.shape"
      ],
      "execution_count": 30,
      "outputs": [
        {
          "output_type": "execute_result",
          "data": {
            "text/plain": [
              "(20999,)"
            ]
          },
          "metadata": {},
          "execution_count": 30
        }
      ]
    },
    {
      "cell_type": "code",
      "metadata": {
        "id": "gHkfkGjZVYC7"
      },
      "source": [
        "# Converting the textual data to numerical data\n",
        "vectorizer = TfidfVectorizer()\n",
        "vectorizer.fit(X)\n",
        "\n",
        "X = vectorizer.transform(X)"
      ],
      "execution_count": 31,
      "outputs": []
    },
    {
      "cell_type": "code",
      "metadata": {
        "colab": {
          "base_uri": "https://localhost:8080/"
        },
        "id": "RSL2hemmVzIP",
        "outputId": "64f61bdc-f3a5-417c-c2fd-ab61372d1765"
      },
      "source": [
        "print(X)"
      ],
      "execution_count": 32,
      "outputs": [
        {
          "output_type": "stream",
          "name": "stdout",
          "text": [
            "  (0, 15686)\t0.2850197763984485\n",
            "  (0, 13473)\t0.25647071470545285\n",
            "  (0, 8909)\t0.36370037073947287\n",
            "  (0, 8630)\t0.291573687188683\n",
            "  (0, 7692)\t0.24754579485071557\n",
            "  (0, 7005)\t0.2187094043739489\n",
            "  (0, 4973)\t0.23316843483792904\n",
            "  (0, 3792)\t0.2707142344139613\n",
            "  (0, 3600)\t0.3600009721823952\n",
            "  (0, 2959)\t0.2470455977561568\n",
            "  (0, 2483)\t0.36775260337664795\n",
            "  (0, 267)\t0.27028259352234113\n",
            "  (1, 16799)\t0.3011323927720925\n",
            "  (1, 6816)\t0.1904284402339991\n",
            "  (1, 5503)\t0.7151367138253379\n",
            "  (1, 3568)\t0.263477035056066\n",
            "  (1, 2813)\t0.19090350944621187\n",
            "  (1, 2223)\t0.38131035180044764\n",
            "  (1, 1894)\t0.1551361529273462\n",
            "  (1, 1497)\t0.2937799575471476\n",
            "  (2, 15611)\t0.41534333989435995\n",
            "  (2, 9620)\t0.493942770574391\n",
            "  (2, 5968)\t0.3475381049293185\n",
            "  (2, 5389)\t0.386756267798861\n",
            "  (2, 3103)\t0.46030463888565165\n",
            "  :\t:\n",
            "  (20996, 13122)\t0.24720876463658228\n",
            "  (20996, 12344)\t0.2729825550652414\n",
            "  (20996, 12138)\t0.2476674063152218\n",
            "  (20996, 10306)\t0.08034752417435242\n",
            "  (20996, 9588)\t0.17437011793188265\n",
            "  (20996, 9518)\t0.29576735192316694\n",
            "  (20996, 8988)\t0.3619526580647449\n",
            "  (20996, 8364)\t0.22357606375685496\n",
            "  (20996, 7042)\t0.21812895475874594\n",
            "  (20996, 3643)\t0.21137155214632217\n",
            "  (20996, 1287)\t0.33572571880426\n",
            "  (20996, 699)\t0.30720489691875286\n",
            "  (20996, 43)\t0.29576735192316694\n",
            "  (20997, 13046)\t0.2233818429710876\n",
            "  (20997, 11052)\t0.4463610010055126\n",
            "  (20997, 10177)\t0.3189322237663104\n",
            "  (20997, 6889)\t0.32381867054603675\n",
            "  (20997, 5032)\t0.4086918742736749\n",
            "  (20997, 1125)\t0.4463610010055126\n",
            "  (20997, 588)\t0.31156756235769695\n",
            "  (20997, 350)\t0.2845076045239925\n",
            "  (20998, 14852)\t0.5709600277337736\n",
            "  (20998, 8036)\t0.4611797087874253\n",
            "  (20998, 3623)\t0.38095366948960335\n",
            "  (20998, 377)\t0.5623097230489617\n"
          ]
        }
      ]
    },
    {
      "cell_type": "markdown",
      "metadata": {
        "id": "EN8EXdkhWbaK"
      },
      "source": [
        "Splitting the dataset to training and test data"
      ]
    },
    {
      "cell_type": "code",
      "metadata": {
        "id": "QdofxjgWWTAF"
      },
      "source": [
        "X_train, X_test, Y_train, Y_test = train_test_split(X, Y, test_size = 0.2, stratify = Y, random_state=2)"
      ],
      "execution_count": 33,
      "outputs": []
    },
    {
      "cell_type": "markdown",
      "metadata": {
        "id": "IuNxdp_4XeVu"
      },
      "source": [
        "Training The Model = Logistic Regression"
      ]
    },
    {
      "cell_type": "code",
      "metadata": {
        "id": "sGWRajIsW3UD"
      },
      "source": [
        "model = LogisticRegression()"
      ],
      "execution_count": 34,
      "outputs": []
    },
    {
      "cell_type": "code",
      "metadata": {
        "colab": {
          "base_uri": "https://localhost:8080/"
        },
        "id": "n3vyiEF2Xow-",
        "outputId": "6368f564-99c0-4d76-967a-6badf26f9aa5"
      },
      "source": [
        "model.fit(X_train, Y_train)"
      ],
      "execution_count": 35,
      "outputs": [
        {
          "output_type": "execute_result",
          "data": {
            "text/plain": [
              "LogisticRegression(C=1.0, class_weight=None, dual=False, fit_intercept=True,\n",
              "                   intercept_scaling=1, l1_ratio=None, max_iter=100,\n",
              "                   multi_class='auto', n_jobs=None, penalty='l2',\n",
              "                   random_state=None, solver='lbfgs', tol=0.0001, verbose=0,\n",
              "                   warm_start=False)"
            ]
          },
          "metadata": {},
          "execution_count": 35
        }
      ]
    },
    {
      "cell_type": "markdown",
      "metadata": {
        "id": "ebmr9b_kYhBM"
      },
      "source": [
        "Evaluation"
      ]
    },
    {
      "cell_type": "markdown",
      "metadata": {
        "id": "xdIK1Dj0YjnG"
      },
      "source": [
        "Accuracy Score"
      ]
    },
    {
      "cell_type": "code",
      "metadata": {
        "id": "TkQI1kUcYid6"
      },
      "source": [
        "# Accuracy Score on the training data\n",
        "X_train_prediction = model.predict(X_train)\n",
        "training_data_accuracy = accuracy_score(X_train_prediction, Y_train)"
      ],
      "execution_count": 37,
      "outputs": []
    },
    {
      "cell_type": "code",
      "metadata": {
        "colab": {
          "base_uri": "https://localhost:8080/"
        },
        "id": "I468sA67YwlQ",
        "outputId": "5f2b0397-fc43-4c5a-ae00-d55b3d3ed20a"
      },
      "source": [
        "print('Accuracy Score of The Training Data : ', training_data_accuracy)"
      ],
      "execution_count": 38,
      "outputs": [
        {
          "output_type": "stream",
          "name": "stdout",
          "text": [
            "Accuracy Score of The Training Data :  0.9869635097327222\n"
          ]
        }
      ]
    },
    {
      "cell_type": "code",
      "metadata": {
        "id": "DCFSIMLoZP4G"
      },
      "source": [
        "# Accuracy Score on the test data\n",
        "X_test_prediction = model.predict(X_test)\n",
        "test_data_accuracy = accuracy_score(X_test_prediction, Y_test)"
      ],
      "execution_count": 39,
      "outputs": []
    },
    {
      "cell_type": "code",
      "metadata": {
        "colab": {
          "base_uri": "https://localhost:8080/"
        },
        "id": "97MIwRX-aA4u",
        "outputId": "282d6e15-1d9d-49cf-d174-d4df6ee274d5"
      },
      "source": [
        "print('Accuracy Score of The Testing Data : ', test_data_accuracy)"
      ],
      "execution_count": 40,
      "outputs": [
        {
          "output_type": "stream",
          "name": "stdout",
          "text": [
            "Accuracy Score of The Testing Data :  0.9764285714285714\n"
          ]
        }
      ]
    },
    {
      "cell_type": "markdown",
      "metadata": {
        "id": "KgV-FkDmaOD9"
      },
      "source": [
        "Making a Predictive System"
      ]
    },
    {
      "cell_type": "code",
      "metadata": {
        "colab": {
          "base_uri": "https://localhost:8080/"
        },
        "id": "VypRJeKIaGCz",
        "outputId": "69a0cd9f-3022-4523-f418-f83bbcb78b21"
      },
      "source": [
        "X_new = X_test[0]\n",
        "\n",
        "prediction = model.predict(X_new)\n",
        "print(prediction)\n",
        "\n",
        "if (prediction[0]==0):\n",
        "  print('The news is Real')\n",
        "else:\n",
        "  print('The news is Fake')\n"
      ],
      "execution_count": 41,
      "outputs": [
        {
          "output_type": "stream",
          "name": "stdout",
          "text": [
            "[1]\n",
            "The news is Fake\n"
          ]
        }
      ]
    },
    {
      "cell_type": "code",
      "metadata": {
        "colab": {
          "base_uri": "https://localhost:8080/"
        },
        "id": "wdfEfxJIbEqA",
        "outputId": "eb1fdf57-bfdd-4cb6-e648-4a5aa9e32cbc"
      },
      "source": [
        "print(Y_test[0])"
      ],
      "execution_count": 43,
      "outputs": [
        {
          "output_type": "stream",
          "name": "stdout",
          "text": [
            "1\n"
          ]
        }
      ]
    }
  ]
}